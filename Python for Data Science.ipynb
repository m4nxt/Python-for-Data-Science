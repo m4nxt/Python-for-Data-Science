{
 "cells": [
  {
   "cell_type": "markdown",
   "metadata": {},
   "source": [
    "# Python for Data Science\n",
    "\n",
    "## Opgave 2\n",
    "\n",
    "Skriv et program der konstruerer 3 tekst variabler, som rummer teksterne “Der var engang”, “ en mand som” og “boede i en spand. Spanden var af ler”.\n",
    "\n",
    "### 2.1. Sammenkæd de tre tekststrenge via variablerne"
   ]
  },
  {
   "cell_type": "code",
   "execution_count": null,
   "metadata": {},
   "outputs": [],
   "source": [
    "a = \"Der var engang\"\n",
    "b = \"en mand som\"\n",
    "c = \"boede i en spand. Spanden var af ler.\"\n",
    "\n",
    "print(f\"{a} {b} {c}\")"
   ]
  },
  {
   "cell_type": "markdown",
   "metadata": {},
   "source": [
    "### 2.2. Bestem længden af hver af dem"
   ]
  },
  {
   "cell_type": "code",
   "execution_count": null,
   "metadata": {},
   "outputs": [],
   "source": [
    "a = \"Der var engang\"\n",
    "b = \"en mand som\"\n",
    "c = \"boede i en spand. Spanden var af ler.\"\n",
    "\n",
    "for i in [ a, b ,c ]:\n",
    "    print(f\"{i}: {len(i)}\")"
   ]
  },
  {
   "cell_type": "markdown",
   "metadata": {},
   "source": [
    "### 2.3. Undersøg det andet bogstav i hver af dem"
   ]
  },
  {
   "cell_type": "code",
   "execution_count": null,
   "metadata": {},
   "outputs": [],
   "source": [
    "a = \"Der var engang\"\n",
    "b = \"en mand som\"\n",
    "c = \"boede i en spand. Spanden var af ler.\"\n",
    "\n",
    "for i in [ a, b ,c ]:\n",
    "    print(i[1])"
   ]
  },
  {
   "cell_type": "markdown",
   "metadata": {},
   "source": [
    "### 2.4. Undersøg om to af variablerne er det samme"
   ]
  },
  {
   "cell_type": "markdown",
   "metadata": {},
   "source": [
    "4. Undersøg om to af variablerne er det samme"
   ]
  },
  {
   "cell_type": "code",
   "execution_count": null,
   "metadata": {},
   "outputs": [],
   "source": [
    "a = \"Der var engang\"\n",
    "b = \"en mand som\"\n",
    "c = \"boede i en spand. Spanden var af ler.\"\n",
    "\n",
    "multiples = []\n",
    "for i in [ a, b, c ]:\n",
    "    arr = [ a, b, c]\n",
    "    arr.remove(i)\n",
    "    if i in arr: \n",
    "        multiples.append(i)\n",
    "\n",
    "print(multiples)"
   ]
  },
  {
   "cell_type": "markdown",
   "metadata": {},
   "source": [
    "### 2.5. Skriv hele teksten som versaler"
   ]
  },
  {
   "cell_type": "code",
   "execution_count": null,
   "metadata": {},
   "outputs": [],
   "source": [
    "a = \"Der var engang\"\n",
    "b = \"en mand som\"\n",
    "c = \"boede i en spand. Spanden var af ler.\"\n",
    "\n",
    "versaler = \"\"\n",
    "for i in [ a, b, c ]:\n",
    "    versaler += f\"{i.upper()} \"\n",
    "\n",
    "print(versaler)"
   ]
  },
  {
   "cell_type": "markdown",
   "metadata": {},
   "source": [
    "### 2.6. Lav en ny variabel der er en delstreng af en af variablerne"
   ]
  },
  {
   "cell_type": "code",
   "execution_count": null,
   "metadata": {},
   "outputs": [],
   "source": [
    "a = \"Der var engang\"\n",
    "b = \"en mand som\"\n",
    "c = \"boede i en spand. Spanden var af ler.\"\n",
    "\n",
    "d = a[2:12]\n",
    "print(d)"
   ]
  },
  {
   "cell_type": "markdown",
   "metadata": {},
   "source": [
    "### 2.7. Sammenflet de tre variabler så det første bogstav er fra den første variable, den anden fra den anden osv"
   ]
  },
  {
   "cell_type": "markdown",
   "metadata": {},
   "source": [
    "## Opgave 6\n",
    "\n",
    "### 6.1 Undersøg em en given tekststreng (string) udgør et validt CPR-NR."
   ]
  },
  {
   "cell_type": "code",
   "execution_count": null,
   "metadata": {},
   "outputs": [],
   "source": [
    "def isDate (day, month, year, code):\n",
    "    if code > 4999: year += 2000\n",
    "    else: year += 1900\n",
    "\n",
    "    if day > 31: return False\n",
    "    if month > 12: return False\n",
    "\n",
    "    if month == 2 & day > 29:\n",
    "        return False\n",
    "    if day > 28 and month == 2 and year % 4 != 0:\n",
    "        return False\n",
    "\n",
    "    if month % 2 == 0 & month < 7:\n",
    "        if day > 30: return False\n",
    "    if month % 2 != 0 & month > 8:\n",
    "        if day > 30: return \n",
    "        \n",
    "    if not 1900 < year < 2058: \n",
    "        return False\n",
    "\n",
    "    return True\n",
    "    \n",
    "\n",
    "def isCPR (cpr):  \n",
    "    if len(cpr) != 10: return False\n",
    "\n",
    "    try:\n",
    "        day = int(cpr[0:2])\n",
    "        month = int(cpr[2:4])\n",
    "        year = int(cpr[4:6])\n",
    "        code = int(cpr[6:10])\n",
    "    except: return False\n",
    "\n",
    "    if not isDate(day, month, year, code): \n",
    "        return False\n",
    "\n",
    "    return True\n",
    "\n",
    "print(isCPR(str(input())))"
   ]
  }
 ],
 "metadata": {
  "kernelspec": {
   "display_name": "Python 3.10.7 64-bit",
   "language": "python",
   "name": "python3"
  },
  "language_info": {
   "codemirror_mode": {
    "name": "ipython",
    "version": 3
   },
   "file_extension": ".py",
   "mimetype": "text/x-python",
   "name": "python",
   "nbconvert_exporter": "python",
   "pygments_lexer": "ipython3",
   "version": "3.10.8"
  },
  "orig_nbformat": 4,
  "vscode": {
   "interpreter": {
    "hash": "e7370f93d1d0cde622a1f8e1c04877d8463912d04d973331ad4851f04de6915a"
   }
  }
 },
 "nbformat": 4,
 "nbformat_minor": 2
}
